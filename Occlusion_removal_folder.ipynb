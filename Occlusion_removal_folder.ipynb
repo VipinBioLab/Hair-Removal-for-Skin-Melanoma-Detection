{
 "cells": [
  {
   "cell_type": "code",
   "execution_count": 4,
   "metadata": {},
   "outputs": [],
   "source": [
    "import os\n",
    "import numpy as np\n",
    "import cv2\n",
    "from scipy import ndimage\n",
    "from PIL import Image\n",
    "import matplotlib.pyplot as plt\n",
    "import skimage\n",
    "from skimage import filters as skifilters\n",
    "%matplotlib inline\n",
    "import glob"
   ]
  },
  {
   "cell_type": "code",
   "execution_count": 5,
   "metadata": {},
   "outputs": [],
   "source": [
    "def occlusion_removal(img,threshold=12,SE_radius=6):\n",
    "    # Remove Dark Hair Occlusions in Dermatoscopic Images via LUV Color Space\n",
    "    # Using cv2.cvtColor() method \n",
    "    # Using cv2.COLOR_RGB2LUV color space \n",
    "    luv       = cv2.cvtColor(img, cv2.COLOR_RGB2Luv)\n",
    "\n",
    "    # Morphological Closing via Spherical SE\n",
    "    # Using Elliptical shaped kernal\n",
    "    kernel    = cv2.getStructuringElement(cv2.MORPH_ELLIPSE,(SE_radius,SE_radius))\n",
    "    closing   = cv2.morphologyEx(luv, cv2.MORPH_CLOSE, kernel)\n",
    "\n",
    "    # Generate Masks via Hysteresis Thresholding Difference Image in L Channel\n",
    "    diffc      = closing[:,:,0]-luv[:,:,0]\n",
    "    maskc      = (skifilters.apply_hysteresis_threshold(diffc,threshold,80)).astype(np.uint8)*255\n",
    "    \n",
    "    \n",
    "    mask_3dc   = maskc[:,:,None] * np.ones(3,dtype=np.uint8)[None, None, :]\n",
    "    basec      = cv2.bitwise_not(maskc)\n",
    "    base_3dc   = basec[:,:,None] * np.ones(3,dtype=np.uint8)[None, None, :]\n",
    "\n",
    "    # Restitch Preprocessed Image\n",
    "    preimagec  = ((base_3dc/255)*luv).astype(np.uint8)\n",
    "    postimagec = ((mask_3dc/255)*closing).astype(np.uint8)\n",
    "    fullc      = preimagec + postimagec\n",
    "    outputc    = cv2.cvtColor(fullc, cv2.COLOR_Luv2RGB)\n",
    "\n",
    "    return outputc, maskc"
   ]
  },
  {
   "cell_type": "code",
   "execution_count": 6,
   "metadata": {},
   "outputs": [],
   "source": [
    "mylist = [f for f in glob.glob(\"*.jpg\")]\n",
    "\n",
    "for imagefile in mylist:\n",
    "    raw_img = cv2.imread(imagefile)\n",
    "    sample = np.array(raw_img)\n",
    "    hr,mask = occlusion_removal(sample)\n",
    "    path = 'C:/Users/vipin/Machine Learning/Occlusion_Remove/Occlusion_Removed'\n",
    "    cv2.imwrite(os.path.join(path , 'hr_'+imagefile), hr)\n",
    "    \n",
    "    "
   ]
  },
  {
   "cell_type": "code",
   "execution_count": null,
   "metadata": {},
   "outputs": [],
   "source": []
  }
 ],
 "metadata": {
  "kernelspec": {
   "display_name": "Python 3.7 (DLCU)",
   "language": "python",
   "name": "dlcpu"
  },
  "language_info": {
   "codemirror_mode": {
    "name": "ipython",
    "version": 3
   },
   "file_extension": ".py",
   "mimetype": "text/x-python",
   "name": "python",
   "nbconvert_exporter": "python",
   "pygments_lexer": "ipython3",
   "version": "3.7.9"
  }
 },
 "nbformat": 4,
 "nbformat_minor": 4
}
